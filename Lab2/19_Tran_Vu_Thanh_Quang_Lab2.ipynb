{
 "cells": [
  {
   "cell_type": "markdown",
   "metadata": {},
   "source": [
    "# Lab 2 - Linear Regression\n",
    "\n",
    "\n",
    "- Your name: \n",
    "\n",
    "- Your student code: "
   ]
  },
  {
   "cell_type": "markdown",
   "metadata": {},
   "source": [
    "## 1. Tạo một Simple Linear Regression với thư viện scikit-learn\n",
    "\n",
    "Ở phần này, bạn sẽ thực hiện một số công việc sau:\n",
    "\n",
    "- Đọc và load dữ liệu từ file với hàm `pd.read_csv()` của thư viện `pandas`\n",
    "- Chia dữ liệu thành train set và test set dùng hàm `train_test_split()` từ thư viện `sklearn`\n",
    "- Dùng hàm `LinearRegression` từ thư viện `sklearn` để tạo mô hình hồi quy tuyến tính \n",
    "- Fit mô hình trên train set với hàm `fit()`\n",
    "- Predict trên test set dùng mô hình đã huấn luyện được\n",
    "- Tính Mean Squared Error (MSE) và R-Squared score dùng hàm `mean_squared_error()` và  `r2_score()` từ thư viện `sklearn`\n",
    "- Vẽ biểu đồ các điểm dữ liệu cùng với các dự đoán của mô hình dùng thư viện `matplotlib`\n",
    "\n",
    "Bên dưới là các đường link để bạn tham khảo thêm về các hàm đã đề cập ở trên.\n",
    "\n",
    "- [pd.read_csv(filename)](https://pandas.pydata.org/pandas-docs/stable/reference/api/pandas.read_csv.html): Trả về một pandas dataframe chứa từ file dữ liệu\n",
    "- [sklearn.train_test_split()](https://scikit-learn.org/stable/modules/generated/sklearn.model_selection.train_test_split.html): Tách dữ liệu (ngẫu nhiên) thành tập train và test \n",
    "- [sklearn.LinearRegression()](https://scikit-learn.org/stable/modules/generated/sklearn.linear_model.LinearRegression.html): Khởi tạo một linear model\n",
    "- [LinearRegression.fit()](https://scikit-learn.org/stable/modules/generated/sklearn.linear_model.LinearRegression.html#sklearn.linear_model.LinearRegression.fit): Fit một linear model trên train data\n",
    "- [LinearRegression.predict()](https://scikit-learn.org/stable/modules/generated/sklearn.linear_model.LinearRegression.html#sklearn.linear_model.LinearRegression.predict): Predict dùng linear model đã tạo\n",
    "- [mean_squared_error()](https://scikit-learn.org/stable/modules/generated/sklearn.metrics.mean_squared_error.html#sklearn.metrics.mean_squared_error): Tính mean squared error (MSE)\n",
    "- [mean_squared_error()](https://scikit-learn.org/stable/modules/generated/sklearn.metrics.mean_squared_error.html#sklearn.metrics.r2_score): Tính R-Squared score ($R^2$)\n",
    "- [plt.plot()](https://matplotlib.org/stable/api/_as_gen/matplotlib.pyplot.plot.html): Vẽ biểu đồ"
   ]
  },
  {
   "cell_type": "markdown",
   "metadata": {},
   "source": [
    "### 1.1. Tìm hiểu tổng quan về dữ liệu\n",
    "\n",
    "Phần này sẽ dùng tập dữ liệu `Advertising.csv` để minh họa.\n",
    "\n",
    "#### 1.1.1. Load dữ liệu"
   ]
  },
  {
   "cell_type": "code",
   "execution_count": 1,
   "metadata": {},
   "outputs": [],
   "source": [
    "import pandas as pd\n",
    "\n",
    "# Đọc dữ liệu từ \"Advertising.csv\"\n",
    "ads = pd.read_csv('./data/Advertising.csv')"
   ]
  },
  {
   "cell_type": "markdown",
   "metadata": {},
   "source": [
    "#### 1.1.2. Khám phá tổng quan về dữ liệu"
   ]
  },
  {
   "cell_type": "code",
   "execution_count": 5,
   "metadata": {},
   "outputs": [
    {
     "data": {
      "text/html": [
       "<div>\n",
       "<style scoped>\n",
       "    .dataframe tbody tr th:only-of-type {\n",
       "        vertical-align: middle;\n",
       "    }\n",
       "\n",
       "    .dataframe tbody tr th {\n",
       "        vertical-align: top;\n",
       "    }\n",
       "\n",
       "    .dataframe thead th {\n",
       "        text-align: right;\n",
       "    }\n",
       "</style>\n",
       "<table border=\"1\" class=\"dataframe\">\n",
       "  <thead>\n",
       "    <tr style=\"text-align: right;\">\n",
       "      <th></th>\n",
       "      <th>Unnamed: 0</th>\n",
       "      <th>TV</th>\n",
       "      <th>radio</th>\n",
       "      <th>newspaper</th>\n",
       "      <th>sales</th>\n",
       "    </tr>\n",
       "  </thead>\n",
       "  <tbody>\n",
       "    <tr>\n",
       "      <th>0</th>\n",
       "      <td>1</td>\n",
       "      <td>230.1</td>\n",
       "      <td>37.8</td>\n",
       "      <td>69.2</td>\n",
       "      <td>22.1</td>\n",
       "    </tr>\n",
       "    <tr>\n",
       "      <th>1</th>\n",
       "      <td>2</td>\n",
       "      <td>44.5</td>\n",
       "      <td>39.3</td>\n",
       "      <td>45.1</td>\n",
       "      <td>10.4</td>\n",
       "    </tr>\n",
       "    <tr>\n",
       "      <th>2</th>\n",
       "      <td>3</td>\n",
       "      <td>17.2</td>\n",
       "      <td>45.9</td>\n",
       "      <td>69.3</td>\n",
       "      <td>9.3</td>\n",
       "    </tr>\n",
       "    <tr>\n",
       "      <th>3</th>\n",
       "      <td>4</td>\n",
       "      <td>151.5</td>\n",
       "      <td>41.3</td>\n",
       "      <td>58.5</td>\n",
       "      <td>18.5</td>\n",
       "    </tr>\n",
       "    <tr>\n",
       "      <th>4</th>\n",
       "      <td>5</td>\n",
       "      <td>180.8</td>\n",
       "      <td>10.8</td>\n",
       "      <td>58.4</td>\n",
       "      <td>12.9</td>\n",
       "    </tr>\n",
       "  </tbody>\n",
       "</table>\n",
       "</div>"
      ],
      "text/plain": [
       "   Unnamed: 0     TV  radio  newspaper  sales\n",
       "0           1  230.1   37.8       69.2   22.1\n",
       "1           2   44.5   39.3       45.1   10.4\n",
       "2           3   17.2   45.9       69.3    9.3\n",
       "3           4  151.5   41.3       58.5   18.5\n",
       "4           5  180.8   10.8       58.4   12.9"
      ]
     },
     "execution_count": 5,
     "metadata": {},
     "output_type": "execute_result"
    }
   ],
   "source": [
    "ads.head()\n"
   ]
  },
  {
   "cell_type": "code",
   "execution_count": 17,
   "metadata": {},
   "outputs": [],
   "source": [
    "# Gán số tiền chi cho quảng cáo qua `TV` là `X`\n",
    "X = ads[['TV']]\n",
    "# Gán doanh số thu được, `sales`, là `y`\n",
    "y = ads[['sales']]"
   ]
  },
  {
   "cell_type": "markdown",
   "metadata": {},
   "source": [
    "### 1.2. Chia dữ liệu\n",
    "\n",
    "Ta sẽ chia dữ liệu làm 2 tập train và test với tỷ lệ 80/20."
   ]
  },
  {
   "cell_type": "code",
   "execution_count": 23,
   "metadata": {},
   "outputs": [
    {
     "name": "stdout",
     "output_type": "stream",
     "text": [
      "Labels counts in y: 200\n",
      "Labels counts in y_train: 140\n",
      "Labels counts in y_test: 60\n"
     ]
    }
   ],
   "source": [
    "from sklearn.model_selection import train_test_split\n",
    "\n",
    "X_train, X_test, y_train, y_test = train_test_split(\n",
    "    X, y, test_size = 0.3, random_state = 1)\n",
    "\n",
    "print('Labels counts in y:', len(y))\n",
    "print('Labels counts in y_train:', len(y_train))\n",
    "print('Labels counts in y_test:', len(y_test))\n"
   ]
  },
  {
   "cell_type": "markdown",
   "metadata": {},
   "source": [
    "### 1.3. Fit mô hình"
   ]
  },
  {
   "cell_type": "code",
   "execution_count": 24,
   "metadata": {},
   "outputs": [],
   "source": [
    "from sklearn.linear_model import LinearRegression\n",
    "from sklearn.model_selection import train_test_split\n",
    "\n",
    "# Tạo mô hình Linear Regression dùng sklearn\n",
    "lr = LinearRegression()\n",
    "\n",
    "# Fit mô hình với train data\n",
    "lr.fit(X_train, y_train)\n",
    "\n",
    "# Predict trên test data dùng mô hình đã train\n",
    "y_pred_test = lr.predict(X_test)"
   ]
  },
  {
   "cell_type": "markdown",
   "metadata": {},
   "source": [
    "### 1.4. Đánh giá mô hình\n",
    "\n",
    "Ta sẽ đánh giá mô hình dùng Mean Squared Error (MSE) và R-Squared score ($R^2$).\n",
    "\n",
    "$$MSE(y, \\hat{y}) = \\frac{1}{n} \\sum_{i=1}^{n} (y_i - \\hat{y_i})^2$$\n",
    "\n",
    "$$R^2 = 1 - \\frac{\\sum_{i=1}^{n} (y_i - \\hat{y_i})^2}{\\sum_{i=1}^{n} (y_i - \\overline{y})^2}$$\n",
    "\n",
    "Trong đó:\n",
    "\n",
    "- $\\hat{y_i}$ là giá trị mà mô hình cho $x_i$\n",
    "    \n",
    "- $y_i$ là output thật sự cho $x_i$\n",
    "    \n",
    "- $n$ là số lượng phần tử trong dữ liệu\n",
    "    \n",
    "- $\\overline{y} = \\frac{1}{n} \\sum_{i=1}^{n} y_i$"
   ]
  },
  {
   "cell_type": "code",
   "execution_count": 25,
   "metadata": {},
   "outputs": [
    {
     "name": "stdout",
     "output_type": "stream",
     "text": [
      "The test MSE is 10.571057434656955\n",
      "The test R-squred score is 0.575061860494331\n"
     ]
    }
   ],
   "source": [
    "from sklearn.metrics import mean_squared_error\n",
    "from sklearn.metrics import r2_score\n",
    "\n",
    "# Tính MSE trên test data\n",
    "mse = mean_squared_error(y_test, y_pred_test)\n",
    "\n",
    "# In ra MSE\n",
    "print(f'The test MSE is {mse}')\n",
    "\n",
    "# Tính R-squred score trên test data\n",
    "r2 = r2_score(y_test, y_pred_test)\n",
    "\n",
    "# In ra R-squred score\n",
    "print(f'The test R-squred score is {r2}')"
   ]
  },
  {
   "cell_type": "markdown",
   "metadata": {},
   "source": [
    "### 1.5. Trực quan hóa kết quả"
   ]
  },
  {
   "cell_type": "code",
   "execution_count": 26,
   "metadata": {},
   "outputs": [
    {
     "data": {
      "text/plain": [
       "<matplotlib.legend.Legend at 0x275c77a8710>"
      ]
     },
     "execution_count": 26,
     "metadata": {},
     "output_type": "execute_result"
    },
    {
     "data": {
      "image/png": "[encoded data removed]",
      "text/plain": [
       "<Figure size 640x480 with 1 Axes>"
      ]
     },
     "metadata": {},
     "output_type": "display_data"
    }
   ],
   "source": [
    "import matplotlib.pyplot as plt\n",
    "\n",
    "# Vẽ biểu đồ gồm dữ liệu với đường hồi quy tuyến tính (linear regression line)\n",
    "fig, ax = plt.subplots()\n",
    "ax.scatter(X, y, label = 'data points')\n",
    "\n",
    "# Vẽ biểu đồ gồm test data và predicted output trên test data\n",
    "ax.plot(X_test, y_pred_test, color='red', linewidth = 2, label = 'model predictions')\n",
    "ax.set_xlabel('TV Advertising')\n",
    "ax.set_ylabel('Sales')\n",
    "ax.legend()"
   ]
  },
  {
   "cell_type": "markdown",
   "metadata": {},
   "source": [
    "### 1.6. Thay đổi `test_size`\n",
    "\n",
    "Nếu ở phần chia dữ liệu, bạn thay đổi tham số `test_size = 0.3` thì MSE và $R^2$ sẽ thay đổi như thế nào?"
   ]
  },
  {
   "cell_type": "code",
   "execution_count": 27,
   "metadata": {},
   "outputs": [],
   "source": [
    "# Your answers\n",
    "\n",
    "mse = '___'\n",
    "r2 = '___'"
   ]
  },
  {
   "cell_type": "markdown",
   "metadata": {},
   "source": [
    "## 2. Tạo nhiều mô hình Linear Regression với thư viện scikit-learn"
   ]
  },
  {
   "cell_type": "code",
   "execution_count": 33,
   "metadata": {},
   "outputs": [],
   "source": [
    "# Khởi tạo một list để lưu các giá trị MSE cho mỗi mô hình\n",
    "mse_train_list = []\n",
    "mse_test_list = []\n",
    "coef_list = []\n",
    "intercept_list = []\n",
    "\n",
    "# Tạo một list các kết hợp có thể có của các thuộc tính để tạo các mô hình khác nhau\n",
    "cols = [['TV'],['radio'],['newspaper'],['TV','radio'],['TV','newspaper'],['radio','newspaper'],['TV','radio','newspaper']]\n",
    "\n",
    "# Lặp qua tất cả các kết hợp có thể có\n",
    "for i in cols:\n",
    "    # Thiết lập mỗi bộ kết hợp trong list trên như là `X`\n",
    "    X = ads[i]\n",
    "    \n",
    "    # Thiết lập \"sales\" như là `y`\n",
    "    y = ads[\"sales\"]\n",
    "   \n",
    "    # Tách data thành train/test sets với tỷ lệ 80%/20% \n",
    "    # Thiết lập random_state = 0 (random_state ảnh hưởng đến tính ngẫu nhiên ở mỗi lần chạy)\n",
    "    X_train, X_test, y_train, y_test = train_test_split(X, y, test_size = .2, random_state = 0)\n",
    "\n",
    "    # Khởi tạo một Linear Regression model\n",
    "    lr = LinearRegression()\n",
    "\n",
    "    # Fit mô hình trên train data\n",
    "    lr.fit(X_train, y_train)\n",
    "    \n",
    "    # Predict trên train và test data dùng mô hình đã huấn luyện\n",
    "    y_train_pred = lr.predict(X_train)\n",
    "    y_test_pred = lr.predict(X_test)\n",
    "    \n",
    "    # Tính MSE trên train và test data\n",
    "    mse_train = mean_squared_error(y_train, y_train_pred)\n",
    "    mse_test = mean_squared_error(y_test, y_test_pred)\n",
    "    \n",
    "    # Thêm Train MSE và Test MSE vào kết quả\n",
    "    mse_train_list.append(mse_train)\n",
    "    mse_test_list.append(mse_test)\n",
    "    \n",
    "    # Thêm các hệ số của mỗi mô hình vào kết quả\n",
    "    coef_list.append(lr.coef_)\n",
    "    intercept_list.append(lr.intercept_)"
   ]
  },
  {
   "cell_type": "markdown",
   "metadata": {},
   "source": [
    "Hiển thị MSE và $R^2$ ứng với mỗi mô hình."
   ]
  },
  {
   "cell_type": "code",
   "execution_count": 35,
   "metadata": {},
   "outputs": [
    {
     "name": "stdout",
     "output_type": "stream",
     "text": [
      "Input\tIntercept\tCoeficients\tTrain MSE\tTest MSE\n",
      "['TV']\t7.292493773559356\t[0.04600779]\t10.617238416139852\t10.186181934530211\n",
      "['radio']\t9.387577017342657\t[0.20651177]\t16.596466917138976\t24.237233037132135\n",
      "['newspaper']\t12.400810905018648\t[0.06030378]\t24.13777119975384\t32.13714634300907\n",
      "['TV', 'radio']\t2.9514407608079694\t[0.04451639 0.19520741]\t2.409949135256197\t4.391429763581876\n",
      "['TV', 'newspaper']\t6.237423658535929\t[0.04487447 0.0406848 ]\t9.8699909080314\t8.68768267569058\n",
      "['radio', 'newspaper']\t9.078037212346736\t[0.19891254 0.01617465]\t16.489367436565196\t24.783395482938158\n",
      "['TV', 'radio', 'newspaper']\t2.994893030495323\t[ 0.04458402  0.19649703 -0.00278146]\t2.406814755818906\t4.40211829144968\n"
     ]
    }
   ],
   "source": [
    "print(\"Input\\tIntercept\\tCoeficients\\tTrain MSE\\tTest MSE\")\n",
    "for i in range(len(mse_train_list)):\n",
    "    print(f'{cols[i]}\\t{intercept_list[i]}\\t{coef_list[i]}\\t{mse_train_list[i]}\\t{mse_test_list[i]}')"
   ]
  },
  {
   "cell_type": "markdown",
   "metadata": {},
   "source": [
    "## 3. Regularization với Ridge, Lasso, và ElasticNet\n",
    "\n",
    "### 3.1. Load dữ liệu\n",
    "\n",
    "Ở phần này ta sẽ sử dụng tập dữ liệu `Boston.csv`. Tâp dữ liệu này gồm một số thuộc tính sau: \n",
    "\n",
    "<pre>\n",
    "1. CRIM      per capita crime rate by town\n",
    "2. ZN        proportion of residential land zoned for lots over 25,000 sq.ft.\n",
    "3. INDUS     proportion of non-retail business acres per town\n",
    "4. CHAS      Charles River dummy variable (= 1 if tract bounds river; 0 otherwise)\n",
    "5. NOX       nitric oxides concentration (parts per 10 million)\n",
    "6. RM        average number of rooms per dwelling\n",
    "7. AGE       proportion of owner-occupied units built prior to 1940\n",
    "8. DIS       weighted distances to five Boston employment centres\n",
    "9. RAD       index of accessibility to radial highways\n",
    "10. TAX      full-value property-tax rate per $10,000\n",
    "11. PTRATIO  pupil-teacher ratio by town\n",
    "12. B        1000(Bk - 0.63)^2 where Bk is the proportion of blacks by town\n",
    "13. LSTAT    % lower status of the population\n",
    "14. MEDV     Median value of owner-occupied homes in $1000s\n",
    "</pre>"
   ]
  },
  {
   "cell_type": "code",
   "execution_count": 37,
   "metadata": {},
   "outputs": [
    {
     "data": {
      "text/html": [
       "<div>\n",
       "<style scoped>\n",
       "    .dataframe tbody tr th:only-of-type {\n",
       "        vertical-align: middle;\n",
       "    }\n",
       "\n",
       "    .dataframe tbody tr th {\n",
       "        vertical-align: top;\n",
       "    }\n",
       "\n",
       "    .dataframe thead th {\n",
       "        text-align: right;\n",
       "    }\n",
       "</style>\n",
       "<table border=\"1\" class=\"dataframe\">\n",
       "  <thead>\n",
       "    <tr style=\"text-align: right;\">\n",
       "      <th></th>\n",
       "      <th>crim</th>\n",
       "      <th>zn</th>\n",
       "      <th>indus</th>\n",
       "      <th>chas</th>\n",
       "      <th>nox</th>\n",
       "      <th>rm</th>\n",
       "      <th>age</th>\n",
       "      <th>dis</th>\n",
       "      <th>rad</th>\n",
       "      <th>tax</th>\n",
       "      <th>ptratio</th>\n",
       "      <th>black</th>\n",
       "      <th>lstat</th>\n",
       "      <th>medv</th>\n",
       "    </tr>\n",
       "  </thead>\n",
       "  <tbody>\n",
       "    <tr>\n",
       "      <th>0</th>\n",
       "      <td>0.00632</td>\n",
       "      <td>18.0</td>\n",
       "      <td>2.31</td>\n",
       "      <td>0</td>\n",
       "      <td>0.538</td>\n",
       "      <td>6.575</td>\n",
       "      <td>65.2</td>\n",
       "      <td>4.0900</td>\n",
       "      <td>1</td>\n",
       "      <td>296</td>\n",
       "      <td>15.3</td>\n",
       "      <td>396.90</td>\n",
       "      <td>4.98</td>\n",
       "      <td>24.0</td>\n",
       "    </tr>\n",
       "    <tr>\n",
       "      <th>1</th>\n",
       "      <td>0.02731</td>\n",
       "      <td>0.0</td>\n",
       "      <td>7.07</td>\n",
       "      <td>0</td>\n",
       "      <td>0.469</td>\n",
       "      <td>6.421</td>\n",
       "      <td>78.9</td>\n",
       "      <td>4.9671</td>\n",
       "      <td>2</td>\n",
       "      <td>242</td>\n",
       "      <td>17.8</td>\n",
       "      <td>396.90</td>\n",
       "      <td>9.14</td>\n",
       "      <td>21.6</td>\n",
       "    </tr>\n",
       "    <tr>\n",
       "      <th>2</th>\n",
       "      <td>0.02729</td>\n",
       "      <td>0.0</td>\n",
       "      <td>7.07</td>\n",
       "      <td>0</td>\n",
       "      <td>0.469</td>\n",
       "      <td>7.185</td>\n",
       "      <td>61.1</td>\n",
       "      <td>4.9671</td>\n",
       "      <td>2</td>\n",
       "      <td>242</td>\n",
       "      <td>17.8</td>\n",
       "      <td>392.83</td>\n",
       "      <td>4.03</td>\n",
       "      <td>34.7</td>\n",
       "    </tr>\n",
       "    <tr>\n",
       "      <th>3</th>\n",
       "      <td>0.03237</td>\n",
       "      <td>0.0</td>\n",
       "      <td>2.18</td>\n",
       "      <td>0</td>\n",
       "      <td>0.458</td>\n",
       "      <td>6.998</td>\n",
       "      <td>45.8</td>\n",
       "      <td>6.0622</td>\n",
       "      <td>3</td>\n",
       "      <td>222</td>\n",
       "      <td>18.7</td>\n",
       "      <td>394.63</td>\n",
       "      <td>2.94</td>\n",
       "      <td>33.4</td>\n",
       "    </tr>\n",
       "    <tr>\n",
       "      <th>4</th>\n",
       "      <td>0.06905</td>\n",
       "      <td>0.0</td>\n",
       "      <td>2.18</td>\n",
       "      <td>0</td>\n",
       "      <td>0.458</td>\n",
       "      <td>7.147</td>\n",
       "      <td>54.2</td>\n",
       "      <td>6.0622</td>\n",
       "      <td>3</td>\n",
       "      <td>222</td>\n",
       "      <td>18.7</td>\n",
       "      <td>396.90</td>\n",
       "      <td>5.33</td>\n",
       "      <td>36.2</td>\n",
       "    </tr>\n",
       "  </tbody>\n",
       "</table>\n",
       "</div>"
      ],
      "text/plain": [
       "      crim    zn  indus  chas    nox     rm   age     dis  rad  tax  ptratio  \\\n",
       "0  0.00632  18.0   2.31     0  0.538  6.575  65.2  4.0900    1  296     15.3   \n",
       "1  0.02731   0.0   7.07     0  0.469  6.421  78.9  4.9671    2  242     17.8   \n",
       "2  0.02729   0.0   7.07     0  0.469  7.185  61.1  4.9671    2  242     17.8   \n",
       "3  0.03237   0.0   2.18     0  0.458  6.998  45.8  6.0622    3  222     18.7   \n",
       "4  0.06905   0.0   2.18     0  0.458  7.147  54.2  6.0622    3  222     18.7   \n",
       "\n",
       "    black  lstat  medv  \n",
       "0  396.90   4.98  24.0  \n",
       "1  396.90   9.14  21.6  \n",
       "2  392.83   4.03  34.7  \n",
       "3  394.63   2.94  33.4  \n",
       "4  396.90   5.33  36.2  "
      ]
     },
     "execution_count": 37,
     "metadata": {},
     "output_type": "execute_result"
    }
   ],
   "source": [
    "## Load dữ liệu\n",
    "boston = pd.read_csv(\"./data/Boston.csv\")\n",
    "boston.head()"
   ]
  },
  {
   "cell_type": "markdown",
   "metadata": {},
   "source": [
    "### 3.2. Chọn `medv` là output"
   ]
  },
  {
   "cell_type": "code",
   "execution_count": 38,
   "metadata": {},
   "outputs": [],
   "source": [
    "import pandas as pd\n",
    "from sklearn import preprocessing\n",
    "\n",
    "# Chọn medv là output\n",
    "y = boston['medv']\n",
    "\n",
    "# Chọn các biến còn lại là input\n",
    "X = boston.drop('medv', axis=1)\n",
    "\n",
    "# Chuẩn hóa (normalize) input theo chuẩn `l2`\n",
    "X_norm = preprocessing.normalize(X, 'l2')"
   ]
  },
  {
   "cell_type": "markdown",
   "metadata": {},
   "source": [
    "### 3.3. Tách dữ liệu thành train và test set\n",
    "\n",
    "Tách dữ liệu thành train và test set với tỷ lệ 80/20 với `random_state = 1`."
   ]
  },
  {
   "cell_type": "code",
   "execution_count": 39,
   "metadata": {},
   "outputs": [],
   "source": [
    "X_train, X_test, y_train, y_test = train_test_split(X, y, test_size = .2, random_state = 1)"
   ]
  },
  {
   "cell_type": "markdown",
   "metadata": {},
   "source": [
    "### 3.4. Áp dung mô hình Linear Regression dùng thư viện scikit-learn"
   ]
  },
  {
   "cell_type": "code",
   "execution_count": 41,
   "metadata": {},
   "outputs": [],
   "source": [
    "# Khởi tạo một Linear Regression model\n",
    "lr = LinearRegression()\n",
    "\n",
    "# Fit model trên train data\n",
    "lr.fit(X_train, y_train)\n",
    "\n",
    "# Predict trên test data\n",
    "y_test_pred = lr.predict(X_test)"
   ]
  },
  {
   "cell_type": "markdown",
   "metadata": {},
   "source": [
    "### 3.5. Tính MSE"
   ]
  },
  {
   "cell_type": "code",
   "execution_count": 42,
   "metadata": {},
   "outputs": [
    {
     "name": "stdout",
     "output_type": "stream",
     "text": [
      "Test MSE:  23.380836480270055\n"
     ]
    }
   ],
   "source": [
    "# Dùng hàm mean_squared_error để tính MSE trên test data\n",
    "mse = mean_squared_error(y_test, y_test_pred)\n",
    "\n",
    "# In ra MSE value\n",
    "print (\"Test MSE: \", mse)"
   ]
  },
  {
   "cell_type": "markdown",
   "metadata": {},
   "source": [
    "### 3.6. In ra các hệ số của Linear Regression model"
   ]
  },
  {
   "cell_type": "code",
   "execution_count": 45,
   "metadata": {},
   "outputs": [
    {
     "name": "stdout",
     "output_type": "stream",
     "text": [
      "{'crim': -0.11238686745728331, 'zn': 0.05805870735149374, 'indus': 0.0183593559335829, 'chas': 2.1299775997319537, 'nox': -19.58110122468678, 'rm': 3.095461657079216, 'age': 0.004452652275661145, 'dis': -1.5004762414744015, 'rad': 0.30535896936795975, 'tax': -0.011123087897876985, 'ptratio': -0.989007562322306, 'black': 0.007321300169405305, 'lstat': -0.5446449971618594}\n"
     ]
    }
   ],
   "source": [
    "import numpy as np\n",
    "\n",
    "# Tạo một dictionary cho các coefficient với tên biến là các key\n",
    "lr_coef = dict(zip(X.columns, np.transpose(lr.coef_)))\n",
    "\n",
    "# Linear regression coefficients\n",
    "lr_x = list(lr_coef.keys())\n",
    "lr_y = list(lr_coef.values())\n",
    "\n"
   ]
  },
  {
   "cell_type": "markdown",
   "metadata": {},
   "source": [
    "### 3.7. Dùng mô hình Ridge Linear Regression"
   ]
  },
  {
   "cell_type": "code",
   "execution_count": 46,
   "metadata": {},
   "outputs": [],
   "source": [
    "from sklearn.linear_model import Ridge\n",
    "\n",
    "# Tạo một Ridge Regression model với alpha = 0.01\n",
    "ridge_reg = Ridge(alpha = 0.01)\n",
    "\n",
    "# Fit mô hình trên train data\n",
    "ridge_reg.fit(X_train, y_train)\n",
    "\n",
    "# Predict trên test data\n",
    "y_test_pred = ridge_reg.predict(X_test)"
   ]
  },
  {
   "cell_type": "markdown",
   "metadata": {},
   "source": [
    "### 3.8. Tính MSE với Ridge regularization"
   ]
  },
  {
   "cell_type": "code",
   "execution_count": 47,
   "metadata": {},
   "outputs": [
    {
     "name": "stdout",
     "output_type": "stream",
     "text": [
      "Ridge Test MSE:  23.372229405582356\n"
     ]
    }
   ],
   "source": [
    "# Tính Test MSE\n",
    "mse_ridge = mean_squared_error(y_test, y_test_pred)\n",
    "\n",
    "# In ra Test MSE\n",
    "print (\"Ridge Test MSE: \", mse_ridge)"
   ]
  },
  {
   "cell_type": "markdown",
   "metadata": {},
   "source": [
    "### 3.9. In ra các hệ số của Ridge Regression model"
   ]
  },
  {
   "cell_type": "code",
   "execution_count": 49,
   "metadata": {},
   "outputs": [],
   "source": [
    "# Tạo một dictionary cho các coefficient với tên biến là các key\n",
    "ridge_coef = dict(zip(X.columns, np.transpose(ridge_reg.coef_))) \n",
    "ridge_coef\n",
    "\n",
    "# Lasso regularisation coefficients\n",
    "ridge_x = list(ridge_coef.keys())\n",
    "ridge_y = list(ridge_coef.values())"
   ]
  },
  {
   "cell_type": "markdown",
   "metadata": {},
   "source": [
    "### 3.10. Dùng mô hình Lasso Regression"
   ]
  },
  {
   "cell_type": "code",
   "execution_count": 50,
   "metadata": {},
   "outputs": [],
   "source": [
    "from sklearn.linear_model import Lasso\n",
    "\n",
    "# Tạo một Ridge Regression model với alpha = 0.01\n",
    "lasso_reg = Lasso(alpha=0.01)\n",
    "\n",
    "# Fit mô hình trên train data\n",
    "lasso_reg.fit(X_train, y_train)\n",
    "\n",
    "# Predict trên test data\n",
    "y_test_pred = lasso_reg.predict(X_test)"
   ]
  },
  {
   "cell_type": "markdown",
   "metadata": {},
   "source": [
    "### 3.11. Tính MSE với Lasso regularization"
   ]
  },
  {
   "cell_type": "code",
   "execution_count": 51,
   "metadata": {},
   "outputs": [
    {
     "name": "stdout",
     "output_type": "stream",
     "text": [
      "Lasso Test MSE:  23.332358963161976\n"
     ]
    }
   ],
   "source": [
    "# Tính Test MSE\n",
    "mse_lasso = mean_squared_error(y_test, y_test_pred)\n",
    "\n",
    "# In ra Test MSE\n",
    "print (\"Lasso Test MSE: \", mse_lasso)"
   ]
  },
  {
   "cell_type": "markdown",
   "metadata": {},
   "source": [
    "### 3.12. In ra các hệ số của Lasso Regression model"
   ]
  },
  {
   "cell_type": "code",
   "execution_count": 55,
   "metadata": {},
   "outputs": [],
   "source": [
    "# Tạo một dictionary cho các coefficient với tên biến là các key\n",
    "lasso_coef = dict(zip(X.columns, np.transpose(lasso_reg.coef_))) \n",
    "#lasso_coef\n",
    "\n",
    "# Lasso regularisation coefficients\n",
    "lasso_x = list(lasso_coef.keys())\n",
    "lasso_y = list(lasso_coef.values())"
   ]
  },
  {
   "cell_type": "markdown",
   "metadata": {},
   "source": [
    "### 3.13. Dùng mô hình ElasticNet Regression"
   ]
  },
  {
   "cell_type": "code",
   "execution_count": 58,
   "metadata": {},
   "outputs": [],
   "source": [
    "from sklearn.linear_model import ElasticNet\n",
    "\n",
    "# Tạo một ElasticNet Regression model với alpha = 0.01, l1_ratio = 0.5\n",
    "elasticnet_reg = ElasticNet(alpha=0.01, l1_ratio=0.5)\n",
    "\n",
    "# Fit mô hình trên train data\n",
    "elasticnet_reg.fit(X_train, y_train)\n",
    "\n",
    "# Predict trên test data\n",
    "y_test_pred = elasticnet_reg.predict(X_test)"
   ]
  },
  {
   "cell_type": "markdown",
   "metadata": {},
   "source": [
    "### 3.14. Tính MSE với ElasticNet regularization"
   ]
  },
  {
   "cell_type": "code",
   "execution_count": 60,
   "metadata": {},
   "outputs": [
    {
     "name": "stdout",
     "output_type": "stream",
     "text": [
      "Lasso Test MSE:  23.33167313088151\n"
     ]
    }
   ],
   "source": [
    "# Tính Test MSE\n",
    "mse_elasticnet = mean_squared_error(y_test, y_test_pred)\n",
    "\n",
    "# In ra Test MSE\n",
    "print (\"Lasso Test MSE: \", mse_elasticnet)"
   ]
  },
  {
   "cell_type": "markdown",
   "metadata": {},
   "source": [
    "### 3.16. In ra các hệ số của ElasticNet Regression model"
   ]
  },
  {
   "cell_type": "code",
   "execution_count": 64,
   "metadata": {},
   "outputs": [],
   "source": [
    "# Tạo một dictionary cho các coefficient với tên biến là các key\n",
    "elasticnet_coef = dict(zip(X.columns, np.transpose(elasticnet_reg.coef_))) \n",
    "\n",
    "# ElasticNet regularisation coefficients\n",
    "elasticnet_x = list(elasticnet_coef.keys())\n",
    "elasticnet_y = list(elasticnet_coef.values())"
   ]
  },
  {
   "cell_type": "markdown",
   "metadata": {},
   "source": [
    "### 3.13. Vẽ biểu đồ so sánh hệ số của các mô hình"
   ]
  },
  {
   "cell_type": "code",
   "execution_count": 63,
   "metadata": {},
   "outputs": [
    {
     "data": {
      "image/png": "[encoded data removed]",
      "text/plain": [
       "<Figure size 640x480 with 1 Axes>"
      ]
     },
     "metadata": {},
     "output_type": "display_data"
    }
   ],
   "source": [
    "plt.rcdefaults()\n",
    "\n",
    "plt.barh(lr_x, lr_y, 1.0, align = 'edge', color = \"blue\", label = \"Linear Regression\")\n",
    "plt.barh(lasso_x, lasso_y, 0.75 ,align = 'edge', color = \"orange\", label = \"Lasso Regularization\")\n",
    "plt.barh(ridge_x, ridge_y, 0.5 ,align = 'edge', color = \"green\", label = \"Ridge Regularization\")\n",
    "plt.barh(elasticnet_x, elasticnet_y, 0.25 ,align = 'edge', color = \"red\", label = \"ElasticNet Regularization\")\n",
    "plt.grid(linewidth = 0.2)\n",
    "plt.xlabel(\"Coefficient value\")\n",
    "plt.ylabel(\"Variables\")\n",
    "plt.legend(loc = 'best')\n",
    "plt.xlim(-21, 5)\n",
    "plt.show()"
   ]
  },
  {
   "cell_type": "markdown",
   "metadata": {},
   "source": [
    "### 3.14. Nhận xét về các mô hình\n",
    "\n",
    "Nhận xét về hiệu quả của Lasso Regression và Ridge Regression so với Linear Regression\n",
    "\n",
    "- \n",
    "\n",
    "- \n"
   ]
  },
  {
   "cell_type": "markdown",
   "metadata": {},
   "source": [
    "## 4. Model selection cho Ridge Regression dùng phương pháp holdout\n",
    "\n",
    "![holdout_model_selection](./image/holdout_model_selection.JPG)"
   ]
  },
  {
   "cell_type": "markdown",
   "metadata": {},
   "source": [
    "### 4.1. Chia dữ liệu"
   ]
  },
  {
   "cell_type": "code",
   "execution_count": null,
   "metadata": {},
   "outputs": [],
   "source": [
    "# Chia dữ liệu boston thành 2 tập train_val và test set với tỷ lệ 80/20\n",
    "boston_train_val, boston_test = train_test_split(___, test_size = ___, random_state = 1)\n",
    "\n",
    "# Tiếp theo, chia tập train_val thành 2 tập train và validation set với tỷ lệ 75/25\n",
    "boston_train, boston_val = train_test_split(___, test_size = ___, random_state = 1)\n",
    "\n",
    "features = ['crim', 'zn', 'indus', 'chas', 'nox', 'rm', 'age', 'dis', 'rad', 'tax', 'ptratio', 'black', 'lstat']\n",
    "\n",
    "X_train = boston_train[features]\n",
    "y_train = boston_train[['medv']]\n",
    "\n",
    "X_val = boston_val[features]\n",
    "y_val = boston_val[['medv']]\n",
    "\n",
    "X_test = boston_test[features]\n",
    "y_test = boston_test[['medv']]"
   ]
  },
  {
   "cell_type": "markdown",
   "metadata": {},
   "source": [
    "### 4.2. Huấn luyện mô hình với các giá trị tham số `alpha` khác nhau"
   ]
  },
  {
   "cell_type": "code",
   "execution_count": null,
   "metadata": {},
   "outputs": [],
   "source": [
    "# Create three lists for train, validation, and test MSE\n",
    "train_mse = []\n",
    "val_mse = []\n",
    "test_mse = []\n",
    "\n",
    "# List of hyper-parameter values \n",
    "alphas = [1e-4, 1e-3, 1e-2, 1e-1, 0.0, 1, 10, 1e2, 1e3, 1e4]\n",
    "\n",
    "# Loop over all the alpha values\n",
    "for alpha in alphas:\n",
    "    # Tạo mô hình Ridge regression với tham số alpha\n",
    "    ridge_reg = Ridge(___)\n",
    "\n",
    "    # Fit mô hình trên train data\n",
    "    ridge_reg.fit(___, ___)\n",
    "    \n",
    "    # Predict trên train set \n",
    "    y_train_pred = ridge_reg.predict(___)\n",
    "    \n",
    "    # Predict trên validation set \n",
    "    y_val_pred = ridge_reg.predict(___)\n",
    "\n",
    "    # Predict trên test set \n",
    "    y_test_pred = ridge_reg.predict(___)\n",
    "    \n",
    "    # Tính train, validation, và test MSE\n",
    "    mse_train = mean_squared_error(___, ___) \n",
    "    mse_val = mean_squared_error(___, ___)\n",
    "    mse_test = mean_squared_error(___, ___)\n",
    "    \n",
    "    # Thêm các MSE vào các list tương ứng\n",
    "    train_mse.append(___)\n",
    "    val_mse.append(___)\n",
    "    test_mse.append(___)\n",
    "    \n",
    "    # In ra train, validation, và test MSE theo alpha\n",
    "    print('alpha: {:7} | train mse: {:5} | val mse: {:5} | test mse: {:5}'.\n",
    "          format(___, round(___, 2), round(___, 2), round(___, 2)))"
   ]
  },
  {
   "cell_type": "markdown",
   "metadata": {},
   "source": [
    "### 4.3. Chọn giá trị `alpha` cho kết quả tốt nhất trên validation set"
   ]
  },
  {
   "cell_type": "code",
   "execution_count": null,
   "metadata": {},
   "outputs": [
    {
     "name": "stdout",
     "output_type": "stream",
     "text": [
      "The best alpha (hyper-parameter) value, alpha = 0.1\n"
     ]
    }
   ],
   "source": [
    "# Chọn giá trị alpha (hyper-parameter), cho val mse nhỏ nhất trên validation data \n",
    "best_alpha = ___\n",
    "\n",
    "# In ra best alpha (hyper-parameter)\n",
    "print(f'The best alpha (hyper-parameter) value, alpha = {best_alpha}')"
   ]
  },
  {
   "cell_type": "markdown",
   "metadata": {},
   "source": [
    "### 4.4. Vẽ biểu đồ train/val/test MSE theo alpha"
   ]
  },
  {
   "cell_type": "code",
   "execution_count": null,
   "metadata": {},
   "outputs": [],
   "source": [
    "fig, ax = plt.subplots(figsize = (12, 8))\n",
    "\n",
    "# Vẽ biểu đồ train MSE theo các giá trị alpha\n",
    "ax.plot(___, ___, 's--', label = 'Train error', color = 'blue', linewidth = 2)\n",
    "\n",
    "# Vẽ biểu đồ validation MSE theo các giá trị alpha\n",
    "ax.plot(___, ___, 's-', label = 'Val error',color ='green', linewidth = 2)\n",
    "\n",
    "# Vẽ biểu đồ test MSE theo các giá trị alpha\n",
    "ax.plot(___, ___, 's-', label = 'Test error',color ='purple', linewidth = 2)\n",
    "\n",
    "# Vẽ đường thẳng đứng ứng với best alpha\n",
    "ax.axvline(___, 0, 0.5, color = 'r', label = f'Min validation error at alpha = {___}')\n",
    "\n",
    "ax.set_xlabel('Value of Alpha', fontsize = 15)\n",
    "ax.set_ylabel('Mean Squared Error',fontsize = 15)\n",
    "ax.set_ylim([15, 55])\n",
    "ax.legend(loc = 'upper left', fontsize = 16)\n",
    "ax.set_title('Mean Squared Error', fontsize = 20)\n",
    "ax.set_xscale('log')\n",
    "plt.tight_layout()\n",
    "plt.show();"
   ]
  },
  {
   "cell_type": "markdown",
   "metadata": {},
   "source": [
    "## 5. Model selection cho Lasso Regression dùng phương pháp holdout\n",
    "\n",
    "### 5.1. Huấn luyện mô hình với các giá trị tham số `alpha` khác nhau"
   ]
  },
  {
   "cell_type": "code",
   "execution_count": null,
   "metadata": {},
   "outputs": [],
   "source": [
    "# Create three lists for train, validation, and test MSE\n",
    "train_mse = []\n",
    "val_mse = []\n",
    "test_mse = []\n",
    "\n",
    "# List of hyper-parameter values \n",
    "alphas = [1e-4, 1e-3, 1e-2, 1e-1, 1, 10, 1e2, 1e3, 1e4]\n",
    "\n",
    "# Loop over all the alpha values\n",
    "for alpha in alphas:\n",
    "    # Tạo một Lasso regression với tham số alpha\n",
    "    lasso_reg = Lasso(___)\n",
    "\n",
    "    # Fit mô hình trên train data\n",
    "    lasso_reg.fit(___, ___)\n",
    "    \n",
    "    # Predict trên train set \n",
    "    y_train_pred = lasso_reg.predict(___)\n",
    "    \n",
    "    # Predict trên validation set \n",
    "    y_val_pred = lasso_reg.predict(___)\n",
    "\n",
    "    # Predict trên test set \n",
    "    y_test_pred = lasso_reg.predict(___)\n",
    "    \n",
    "    # Tính train, validation, và test MSE\n",
    "    mse_train = mean_squared_error(___, ___) \n",
    "    mse_val = mean_squared_error(___, ___)\n",
    "    mse_test = mean_squared_error(___, ___)\n",
    "    \n",
    "    # Thêm các MSE vào các list tương ứng\n",
    "    train_mse.append(___)\n",
    "    val_mse.append(___)\n",
    "    test_mse.append(___)\n",
    "    \n",
    "    # In ra train, validation, và test MSE theo alpha\n",
    "    print('alpha: {:7} | train mse: {:5} | val mse: {:5} | test mse: {:5}'.\n",
    "          format(___, round(___, 2), round(___, 2), round(___, 2)))"
   ]
  },
  {
   "cell_type": "markdown",
   "metadata": {},
   "source": [
    "### 5.2. Chọn giá trị alpha cho kết quả tốt nhất trên validation set"
   ]
  },
  {
   "cell_type": "code",
   "execution_count": null,
   "metadata": {},
   "outputs": [
    {
     "name": "stdout",
     "output_type": "stream",
     "text": [
      "The best alpha (hyper-parameter) value, alpha = 0.01\n"
     ]
    }
   ],
   "source": [
    "# Chọn giá trị alpha (hyper-parameter), cho val mse nhỏ nhất trên validation data \n",
    "best_alpha = ___\n",
    "\n",
    "# In ra best alpha (hyper-parameter)\n",
    "print(f'The best alpha (hyper-parameter) value, alpha = {___}')"
   ]
  },
  {
   "cell_type": "markdown",
   "metadata": {},
   "source": [
    "### 5.3. Vẽ biểu đồ train/val/test MSE theo alpha"
   ]
  },
  {
   "cell_type": "code",
   "execution_count": null,
   "metadata": {},
   "outputs": [],
   "source": [
    "fig, ax = plt.subplots(figsize = (12, 8))\n",
    "\n",
    "# Vẽ biểu đồ train MSE theo các giá trị alpha\n",
    "ax.plot(___, ___, 's--', label = 'Train error', color = 'blue', linewidth = 2)\n",
    "\n",
    "# Vẽ biểu đồ validation MSE theo các giá trị alpha\n",
    "ax.plot(___, ___, 's-', label = 'Val error',color ='green', linewidth = 2)\n",
    "\n",
    "# Vẽ biểu đồ test MSE theo các giá trị alpha\n",
    "ax.plot(___, ___, 's-', label = 'Test error',color ='purple', linewidth = 2)\n",
    "\n",
    "# Vẽ đường thẳng đứng ứng với best alpha\n",
    "ax.axvline(___, 0, 0.5, color = 'r', label = f'Min validation error at alpha = {___}')\n",
    "\n",
    "ax.set_xlabel('Value of Alpha', fontsize = 15)\n",
    "ax.set_ylabel('Mean Squared Error',fontsize = 15)\n",
    "ax.set_ylim([15, 55])\n",
    "ax.legend(loc = 'upper left', fontsize = 16)\n",
    "ax.set_title('Mean Squared Error', fontsize = 20)\n",
    "ax.set_xscale('log')\n",
    "plt.tight_layout()\n",
    "plt.show();"
   ]
  },
  {
   "cell_type": "markdown",
   "metadata": {},
   "source": [
    "## 6. Model selection cho Ridge Regression dùng phương pháp cross validation"
   ]
  },
  {
   "cell_type": "markdown",
   "metadata": {},
   "source": [
    "### 6.1. Chia dữ liệu"
   ]
  },
  {
   "cell_type": "code",
   "execution_count": null,
   "metadata": {},
   "outputs": [],
   "source": [
    "# Chia dữ liệu boston thành train và test set theo tỷ lệ 80/20\n",
    "boston_train, boston_test = train_test_split(___, test_size = ___, random_state = 1)\n",
    "\n",
    "features = ['crim', 'zn', 'indus', 'chas', 'nox', 'rm', 'age', 'dis', 'rad', 'tax', 'ptratio', 'black', 'lstat']\n",
    "\n",
    "X_train = boston_train[features]\n",
    "y_train = boston_train[['medv']]\n",
    "\n",
    "X_test = boston_test[features]\n",
    "y_test = boston_test[['medv']]"
   ]
  },
  {
   "cell_type": "markdown",
   "metadata": {},
   "source": [
    "### 6.2. Dùng `RidgeCV` và `LassoCV` cho model selection\n",
    "\n",
    "![k-folds cs](./image/cross_val.png)"
   ]
  },
  {
   "cell_type": "code",
   "execution_count": null,
   "metadata": {},
   "outputs": [],
   "source": [
    "from sklearn.linear_model import LinearRegression\n",
    "from sklearn.linear_model import RidgeCV\n",
    "from sklearn.linear_model import LassoCV\n",
    "from sklearn.metrics import r2_score\n",
    "\n",
    "alphas = (0.001, 0.01, 0.1, 1, 10, 100, 1000)\n",
    "\n",
    "linear_reg = LinearRegression().fit(___, ___)\n",
    "linear_score = linear_reg.score(___, ___)\n",
    "print('R^2 score for original least squares (OLS) model: {}\\n'.format(___))\n",
    "\n",
    "# Dùng k-fold cross validation cho Ridge và Lasso với các giá trị alpha ở trên và cv là k\n",
    "k = 5\n",
    "ridge_reg = RidgeCV(___, ___).fit(___, ___)\n",
    "lasso_reg = LassoCV(___, ___).fit(___, ___)\n",
    "   \n",
    "ridge_alpha = ridge_reg.___\n",
    "ridge_score = ridge_reg.score(___, ___)\n",
    "print('Best alpha for ridge: {}'.format(___))\n",
    "print('R^2 score for Ridge with alpha = {} is {}\\n'.format(___, ___))\n",
    "\n",
    "lasso_alpha = lasso_reg.___\n",
    "lasso_score = lasso_reg.score(___, ___)\n",
    "print('Best alpha for lasso: {}'.format(___))\n",
    "print('R squared score for Lasso with alpha = {} is {}'.format(___, ___))"
   ]
  },
  {
   "cell_type": "markdown",
   "metadata": {},
   "source": [
    "### 6.3. Dùng `KFold` cho model selection"
   ]
  },
  {
   "cell_type": "code",
   "execution_count": null,
   "metadata": {},
   "outputs": [],
   "source": [
    "from sklearn.linear_model import Lasso\n",
    "from sklearn.model_selection import KFold\n",
    "from sklearn.metrics import mean_squared_error\n",
    "\n",
    "features = ['crim', 'zn', 'indus', 'chas', 'nox', 'rm', 'age', 'dis', 'rad', 'tax', 'ptratio', 'black', 'lstat']\n",
    "label = ['medv']\n",
    "\n",
    "X = boston[features]\n",
    "y = boston[label]\n",
    "\n",
    "alphas = (0.001, 0.01, 0.1, 1, 10, 100, 1000)\n",
    "\n",
    "K = 10\n",
    "kf = KFold(n_splits = K, shuffle = True, random_state = 1)\n",
    "\n",
    "for alpha in alphas:\n",
    "    train_mses = []\n",
    "    test_mses = []\n",
    "    for train_index, test_index in kf.split(X, y):\n",
    "        \n",
    "        # split data theo train_index và test_index\n",
    "        X_train, X_test = ___, ___\n",
    "        y_train, y_test = ___, ___\n",
    "\n",
    "        # Tạo model theo alpha\n",
    "        lasso_reg = Lasso(___, fit_intercept = True, random_state = 1)\n",
    "        \n",
    "        # Fit the model trên train set\n",
    "        lasso_reg.fit(___, ___)\n",
    "        \n",
    "        # Predict trên train và test set\n",
    "        y_train_pred = lasso_reg.predict(___)\n",
    "        y_test_pred = lasso_reg.predict(___)\n",
    "        \n",
    "        # Tính train và test mse\n",
    "        train_mse = mean_squared_error(___, ___)\n",
    "        test_mse = mean_squared_error(___, ___)\n",
    "        \n",
    "        # Thêm train và test mse vào các list tương ứng\n",
    "        train_mses.append(___)\n",
    "        test_mses.append(___)\n",
    "    \n",
    "    # In ra train, validation, và test MSE theo alpha\n",
    "    print('alpha: {:6} | mean(train_mse): {:6} | mean(test_mse): {:6}'.\n",
    "          format(___, round(___, 2), round(___, 2)))"
   ]
  }
 ],
 "metadata": {
  "kernelspec": {
   "display_name": "Python 3 (ipykernel)",
   "language": "python",
   "name": "python3"
  },
  "language_info": {
   "codemirror_mode": {
    "name": "ipython",
    "version": 3
   },
   "file_extension": ".py",
   "mimetype": "text/x-python",
   "name": "python",
   "nbconvert_exporter": "python",
   "pygments_lexer": "ipython3",
   "version": "3.11.4"
  }
 },
 "nbformat": 4,
 "nbformat_minor": 4
}
